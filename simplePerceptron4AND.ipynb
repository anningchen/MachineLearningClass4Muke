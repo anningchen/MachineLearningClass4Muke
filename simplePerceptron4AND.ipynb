{
 "cells": [
  {
   "cell_type": "code",
   "execution_count": 13,
   "metadata": {},
   "outputs": [],
   "source": [
    "import numpy as np\n",
    "import matplotlib.pyplot as plt\n",
    "from  SimplePerceptron import *"
   ]
  },
  {
   "cell_type": "code",
   "execution_count": 29,
   "metadata": {},
   "outputs": [
    {
     "data": {
      "image/png": "[encoded data removed]",
      "text/plain": [
       "<matplotlib.figure.Figure at 0x294efa054e0>"
      ]
     },
     "metadata": {},
     "output_type": "display_data"
    }
   ],
   "source": [
    "inputs  = np.array([[0,0],[0,1],[1,0],[1,1]])\n",
    "targets = np.array([[0],[0],[0],[1]])\n",
    "\n",
    "fig = plt.figure()\n",
    "ax = fig.add_subplot(1,1,1)\n",
    "ax.scatter(inputs[:,0],inputs[:,1],c='red')\n",
    "ax.scatter(inputs[1,1],inputs[1,1],c='blue')\n",
    "plt.show()"
   ]
  },
  {
   "cell_type": "code",
   "execution_count": 18,
   "metadata": {},
   "outputs": [
    {
     "name": "stdout",
     "output_type": "stream",
     "text": [
      "Iteration:  0\n",
      "[[ 0.18536074]\n",
      " [ 0.15420661]\n",
      " [-0.19337141]]\n",
      "Final outputs are:\n",
      "[[1]\n",
      " [1]\n",
      " [1]\n",
      " [1]]\n",
      "Iteration:  1\n",
      "[[-0.01463926]\n",
      " [-0.04579339]\n",
      " [ 0.40662859]]\n",
      "Final outputs are:\n",
      "[[0]\n",
      " [0]\n",
      " [0]\n",
      " [0]]\n",
      "Iteration:  2\n",
      "[[ 0.18536074]\n",
      " [ 0.15420661]\n",
      " [ 0.20662859]]\n",
      "Final outputs are:\n",
      "[[0]\n",
      " [0]\n",
      " [0]\n",
      " [1]]\n",
      "Iteration:  3\n",
      "[[ 0.18536074]\n",
      " [ 0.15420661]\n",
      " [ 0.20662859]]\n",
      "Final outputs are:\n",
      "[[0]\n",
      " [0]\n",
      " [0]\n",
      " [1]]\n",
      "Iteration:  4\n",
      "[[ 0.18536074]\n",
      " [ 0.15420661]\n",
      " [ 0.20662859]]\n",
      "Final outputs are:\n",
      "[[0]\n",
      " [0]\n",
      " [0]\n",
      " [1]]\n",
      "Iteration:  5\n",
      "[[ 0.18536074]\n",
      " [ 0.15420661]\n",
      " [ 0.20662859]]\n",
      "Final outputs are:\n",
      "[[0]\n",
      " [0]\n",
      " [0]\n",
      " [1]]\n",
      "Iteration:  6\n",
      "[[ 0.18536074]\n",
      " [ 0.15420661]\n",
      " [ 0.20662859]]\n",
      "Final outputs are:\n",
      "[[0]\n",
      " [0]\n",
      " [0]\n",
      " [1]]\n"
     ]
    }
   ],
   "source": [
    "p = SimplePerceptron(inputs, targets)\n",
    "p.pcntrain(inputs,targets,0.2,7)"
   ]
  },
  {
   "cell_type": "code",
   "execution_count": null,
   "metadata": {
    "collapsed": true
   },
   "outputs": [],
   "source": []
  }
 ],
 "metadata": {
  "kernelspec": {
   "display_name": "Python 3",
   "language": "python",
   "name": "python3"
  },
  "language_info": {
   "codemirror_mode": {
    "name": "ipython",
    "version": 3
   },
   "file_extension": ".py",
   "mimetype": "text/x-python",
   "name": "python",
   "nbconvert_exporter": "python",
   "pygments_lexer": "ipython3",
   "version": "3.6.3"
  }
 },
 "nbformat": 4,
 "nbformat_minor": 2
}
